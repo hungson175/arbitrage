{
 "cells": [
  {
   "cell_type": "code",
   "execution_count": 1,
   "metadata": {},
   "outputs": [],
   "source": [
    "from binance.client import Client\n",
    "from binance.exceptions import BinanceAPIException, BinanceRequestException\n",
    "from typing import List, NamedTuple\n",
    "from decimal import Decimal"
   ]
  },
  {
   "cell_type": "code",
   "execution_count": 2,
   "metadata": {},
   "outputs": [],
   "source": [
    "from binance_client import BinanceClient\n",
    "\n",
    "\n",
    "client = BinanceClient()\n"
   ]
  },
  {
   "cell_type": "code",
   "execution_count": 4,
   "metadata": {},
   "outputs": [
    {
     "name": "stdout",
     "output_type": "stream",
     "text": [
      "Number of tickers:  2769\n"
     ]
    },
    {
     "data": {
      "text/plain": [
       "[BinanceTickerPair(symbol='ETHBTC', priceChange=-0.00057, priceChangePercent=-1.523, weightedAvgPrice=0.03681811, prevClosePrice=0.03741, lastPrice=0.03685, lastQty=5.2829, bidPrice=0.03685, bidQty=46.9065, askPrice=0.03686, askQty=23.4879, openPrice=0.03742, highPrice=0.03745, lowPrice=0.03623, volume=27353.4573, quoteVolume=1007.10252358, openTime=1729873687638, closeTime=1729960087638, firstId=470739209, lastId=470862932, count=123724)]"
      ]
     },
     "execution_count": 4,
     "metadata": {},
     "output_type": "execute_result"
    }
   ],
   "source": [
    "all_pairs = client.get_all_trading_pairs()\n",
    "print(\"Number of tickers: \", len(all_pairs))\n",
    "all_pairs[0:1]"
   ]
  },
  {
   "cell_type": "code",
   "execution_count": 5,
   "metadata": {},
   "outputs": [
    {
     "name": "stdout",
     "output_type": "stream",
     "text": [
      "BinanceTickerPair(symbol='ETHBTC', priceChange=-0.00057, priceChangePercent=-1.523, weightedAvgPrice=0.03681811, prevClosePrice=0.03741, lastPrice=0.03685, lastQty=5.2829, bidPrice=0.03685, bidQty=46.9065, askPrice=0.03686, askQty=23.4879, openPrice=0.03742, highPrice=0.03745, lowPrice=0.03623, volume=27353.4573, quoteVolume=1007.10252358, openTime=1729873687638, closeTime=1729960087638, firstId=470739209, lastId=470862932, count=123724)\n",
      "BinanceTickerPair(symbol='BTCUSDT', priceChange=-783.56, priceChangePercent=-1.157, weightedAvgPrice=66811.95279887, prevClosePrice=67749.1, lastPrice=66965.53, lastQty=0.00564, bidPrice=66965.52, bidQty=4.79761, askPrice=66965.53, askQty=0.86241, openPrice=67749.09, highPrice=67861.65, lowPrice=65596.29, volume=28300.91605, quoteVolume=1890839467.2974591, openTime=1729873687738, closeTime=1729960087738, firstId=3962371736, lastId=3966963425, count=4591690)\n",
      "BinanceTickerPair(symbol='ETHUSDT', priceChange=-67.16, priceChangePercent=-2.649, weightedAvgPrice=2459.04578313, prevClosePrice=2535.18, lastPrice=2468.03, lastQty=0.05, bidPrice=2468.03, bidQty=86.2713, askPrice=2468.04, askQty=4.3552, openPrice=2535.19, highPrice=2536.7, lowPrice=2382.59, volume=443625.8312, quoteVolume=1090896229.500048, openTime=1729873687685, closeTime=1729960087685, firstId=1671179504, lastId=1674467393, count=3287890)\n"
     ]
    }
   ],
   "source": [
    "# find all pairs that contain 2 in 3: 'USDT', 'BTC', 'ETH'\n",
    "coins = ['USDT', 'BTC', 'ETH']\n",
    "symbols = []\n",
    "for c1 in coins:\n",
    "    for c2 in coins:\n",
    "        if c1 != c2: \n",
    "            symbols.append(c1 + c2)\n",
    "for pair in all_pairs:\n",
    "    if pair.symbol in symbols:\n",
    "        print(pair)\n"
   ]
  },
  {
   "cell_type": "code",
   "execution_count": null,
   "metadata": {},
   "outputs": [],
   "source": []
  }
 ],
 "metadata": {
  "kernelspec": {
   "display_name": "venv",
   "language": "python",
   "name": "python3"
  },
  "language_info": {
   "codemirror_mode": {
    "name": "ipython",
    "version": 3
   },
   "file_extension": ".py",
   "mimetype": "text/x-python",
   "name": "python",
   "nbconvert_exporter": "python",
   "pygments_lexer": "ipython3",
   "version": "3.12.4"
  }
 },
 "nbformat": 4,
 "nbformat_minor": 2
}
