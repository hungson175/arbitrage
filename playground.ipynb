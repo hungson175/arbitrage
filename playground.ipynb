{
 "cells": [
  {
   "cell_type": "code",
   "execution_count": 1,
   "metadata": {},
   "outputs": [],
   "source": [
    "from binance.client import Client\n",
    "from binance.exceptions import BinanceAPIException, BinanceRequestException\n",
    "from typing import List, NamedTuple\n",
    "from decimal import Decimal"
   ]
  },
  {
   "cell_type": "code",
   "execution_count": 2,
   "metadata": {},
   "outputs": [],
   "source": [
    "from binance_client import BinanceClient\n",
    "\n",
    "\n",
    "client = BinanceClient()\n"
   ]
  },
  {
   "cell_type": "code",
   "execution_count": 3,
   "metadata": {},
   "outputs": [
    {
     "name": "stdout",
     "output_type": "stream",
     "text": [
      "Number of tickers:  2769\n"
     ]
    },
    {
     "data": {
      "text/plain": [
       "[BinanceTickerPair(symbol='ETHBTC', priceChange=-6e-05, priceChangePercent=-0.162, weightedAvgPrice=0.03691286, prevClosePrice=0.03696, lastPrice=0.03689, lastQty=1.0, bidPrice=0.03688, bidQty=29.6354, askPrice=0.03689, askQty=14.8492, openPrice=0.03695, highPrice=0.03722, lowPrice=0.03668, volume=12655.5337, quoteVolume=467.15188102, openTime=1729962615856, closeTime=1730049015856, firstId=470865935, lastId=470927813, count=61879)]"
      ]
     },
     "execution_count": 3,
     "metadata": {},
     "output_type": "execute_result"
    }
   ],
   "source": [
    "all_pairs = client.get_all_trading_pairs()\n",
    "print(\"Number of tickers: \", len(all_pairs))\n",
    "all_pairs[0:1]"
   ]
  },
  {
   "cell_type": "code",
   "execution_count": 4,
   "metadata": {},
   "outputs": [
    {
     "name": "stdout",
     "output_type": "stream",
     "text": [
      "BinanceTickerPair(symbol='ETHBTC', priceChange=-6e-05, priceChangePercent=-0.162, weightedAvgPrice=0.03691286, prevClosePrice=0.03696, lastPrice=0.03689, lastQty=1.0, bidPrice=0.03688, bidQty=29.6354, askPrice=0.03689, askQty=14.8492, openPrice=0.03695, highPrice=0.03722, lowPrice=0.03668, volume=12655.5337, quoteVolume=467.15188102, openTime=1729962615856, closeTime=1730049015856, firstId=470865935, lastId=470927813, count=61879)\n",
      "BinanceTickerPair(symbol='BTCUSDT', priceChange=754.06, priceChangePercent=1.125, weightedAvgPrice=67324.69455555, prevClosePrice=67022.01, lastPrice=67776.06, lastQty=0.00233, bidPrice=67776.06, bidQty=4.10573, askPrice=67776.07, askQty=1.24256, openPrice=67022.0, highPrice=67878.79, lowPrice=66913.73, volume=7046.5541, quoteVolume=474407102.4516911, openTime=1729962622117, closeTime=1730049022117, firstId=3967020079, lastId=3968523894, count=1503816)\n",
      "BinanceTickerPair(symbol='ETHUSDT', priceChange=23.32, priceChangePercent=0.942, weightedAvgPrice=2484.97647038, prevClosePrice=2476.61, lastPrice=2499.93, lastQty=0.0087, bidPrice=2499.93, bidQty=42.1336, askPrice=2499.94, askQty=35.1704, openPrice=2476.61, highPrice=2508.0, lowPrice=2464.13, volume=139977.3702, quoteVolume=347840471.332494, openTime=1729962622168, closeTime=1730049022168, firstId=1674543176, lastId=1675788734, count=1245559)\n"
     ]
    }
   ],
   "source": [
    "# find all pairs that contain 2 in 3: 'USDT', 'BTC', 'ETH'\n",
    "coins = ['USDT', 'BTC', 'ETH']\n",
    "symbols = []\n",
    "for c1 in coins:\n",
    "    for c2 in coins:\n",
    "        if c1 != c2: \n",
    "            symbols.append(c1 + c2)\n",
    "for pair in all_pairs:\n",
    "    if pair.symbol in symbols:\n",
    "        print(pair)\n"
   ]
  },
  {
   "cell_type": "code",
   "execution_count": 5,
   "metadata": {},
   "outputs": [
    {
     "data": {
      "text/plain": [
       "{'lastUpdateId': 53478665708,\n",
       " 'bids': [['67781.12000000', '5.39796000'],\n",
       "  ['67781.11000000', '0.28029000'],\n",
       "  ['67781.10000000', '0.00010000'],\n",
       "  ['67781.06000000', '0.00010000'],\n",
       "  ['67781.01000000', '0.00010000']],\n",
       " 'asks': [['67781.13000000', '0.59692000'],\n",
       "  ['67781.17000000', '0.00025000'],\n",
       "  ['67781.42000000', '0.00010000'],\n",
       "  ['67781.92000000', '0.00010000'],\n",
       "  ['67781.99000000', '0.07757000']]}"
      ]
     },
     "execution_count": 5,
     "metadata": {},
     "output_type": "execute_result"
    }
   ],
   "source": [
    "client.get_order_book('BTCUSDT', 5)"
   ]
  },
  {
   "cell_type": "code",
   "execution_count": 12,
   "metadata": {},
   "outputs": [
    {
     "name": "stdout",
     "output_type": "stream",
     "text": [
      "Generator started\n",
      "Yielding:  0\n",
      "0\n",
      "Yielding:  1\n",
      "1\n",
      "Yielding:  4\n",
      "4\n"
     ]
    }
   ],
   "source": [
    "def get_squares_generator(max):\n",
    "    print(\"Generator started\")\n",
    "    for i in range(max):\n",
    "        print(\"Yielding: \", i*i)\n",
    "        yield i*i\n",
    "\n",
    "squares = get_squares_generator(10)\n",
    "num = next(squares)\n",
    "print(num)\n",
    "num1 = next(squares)\n",
    "print(num1)\n",
    "num2 = next(squares)\n",
    "print(num2)\n",
    "\n"
   ]
  },
  {
   "cell_type": "code",
   "execution_count": 15,
   "metadata": {},
   "outputs": [
    {
     "name": "stdout",
     "output_type": "stream",
     "text": [
      "0\n",
      "1\n",
      "4\n"
     ]
    }
   ],
   "source": [
    "gen = (\n",
    "    print(\"Started generator\")\n",
    "    x*x for x in range(10)\n",
    ")\n",
    "print(next(gen))\n",
    "print(next(gen))\n",
    "print(next(gen))\n"
   ]
  },
  {
   "cell_type": "code",
   "execution_count": null,
   "metadata": {},
   "outputs": [],
   "source": []
  }
 ],
 "metadata": {
  "kernelspec": {
   "display_name": "venv",
   "language": "python",
   "name": "python3"
  },
  "language_info": {
   "codemirror_mode": {
    "name": "ipython",
    "version": 3
   },
   "file_extension": ".py",
   "mimetype": "text/x-python",
   "name": "python",
   "nbconvert_exporter": "python",
   "pygments_lexer": "ipython3",
   "version": "3.12.4"
  }
 },
 "nbformat": 4,
 "nbformat_minor": 2
}
